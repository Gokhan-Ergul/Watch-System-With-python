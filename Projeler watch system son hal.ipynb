{
 "cells": [
  {
   "cell_type": "code",
   "execution_count": 84,
   "id": "0ce4aa17",
   "metadata": {},
   "outputs": [],
   "source": [
    "import winsound\n",
    "import datetime\n",
    "from datetime import date\n",
    "from ipywidgets import Layout\n",
    "import ipywidgets as widgets\n",
    "from IPython.display import display, HTML\n",
    "import multiprocessing\n",
    "import os"
   ]
  },
  {
   "cell_type": "code",
   "execution_count": 85,
   "id": "06294efd",
   "metadata": {},
   "outputs": [
    {
     "data": {
      "application/vnd.jupyter.widget-view+json": {
       "model_id": "8ead5caafc7d49289b73ce904563cc41",
       "version_major": 2,
       "version_minor": 0
      },
      "text/plain": [
       "Dropdown(description='Hour:', layout=Layout(width='max-content'), options=('00', '01', '02', '03', '04', '05',…"
      ]
     },
     "metadata": {},
     "output_type": "display_data"
    }
   ],
   "source": [
    "choose_hour=widgets.Dropdown(\n",
    "options=['00','01','02','03','04','05','06','07','08','09','10','11','12'],                            \n",
    "value='00',\n",
    "layout={'width': 'max-content'},\n",
    "description='Hour:',\n",
    "disabled=False)\n",
    "choose_hour"
   ]
  },
  {
   "cell_type": "code",
   "execution_count": 86,
   "id": "bd5ce7a3",
   "metadata": {},
   "outputs": [
    {
     "data": {
      "application/vnd.jupyter.widget-view+json": {
       "model_id": "db3487ef7f45413a86ee3969104199aa",
       "version_major": 2,
       "version_minor": 0
      },
      "text/plain": [
       "Dropdown(description='Min:', layout=Layout(width='max-content'), options=('00', '01', '02', '03', '04', '05', …"
      ]
     },
     "metadata": {},
     "output_type": "display_data"
    }
   ],
   "source": [
    "choose_min=widgets.Dropdown(\n",
    "options=['00','01','02','03','04','05','06','07','08','09','10', \"11\", \"12\", \"13\", \"14\", \"15\", \"16\", \"17\", \"18\", \"19\", \"20\", \"21\", \"22\", \"23\", \"24\", \"25\", \"26\", \"27\", \"28\", \"29\", \"30\", \"31\", \"32\", \"33\", \"34\", \"35\", \"36\", \"37\", \"38\", \"39\",\"40\", \"41\", \"42\", \"43\", \"44\", \"45\", \"46\", \"47\", \"48\", \"49\", \"50\", \"51\", \"52\", \"53\",\"54\", \"55\", \"56\", \"57\", \"58\",\"59\"],                            \n",
    "value='00',\n",
    "layout={'width': 'max-content'},\n",
    "description='Min:',\n",
    "disabled=False)\n",
    "choose_min"
   ]
  },
  {
   "cell_type": "code",
   "execution_count": 87,
   "id": "a5550100",
   "metadata": {},
   "outputs": [
    {
     "data": {
      "application/vnd.jupyter.widget-view+json": {
       "model_id": "0652089f3af54c95b5981b2cfdb4adbe",
       "version_major": 2,
       "version_minor": 0
      },
      "text/plain": [
       "Dropdown(description='part of day', layout=Layout(width='max-content'), options=('am', 'pm'), value='am')"
      ]
     },
     "metadata": {},
     "output_type": "display_data"
    }
   ],
   "source": [
    "choose_ante_post = widgets.Dropdown(\n",
    "options = ['am','pm'],\n",
    "value ='am',\n",
    "layout = {'width':'max-content'},\n",
    "description = 'part of day',\n",
    "disabled = False)\n",
    "choose_ante_post"
   ]
  },
  {
   "cell_type": "code",
   "execution_count": 88,
   "id": "e45ccb60",
   "metadata": {},
   "outputs": [],
   "source": [
    "def today():\n",
    "    bugun=date.today()\n",
    "    if bugun.weekday()==0:\n",
    "        return 'Mon'\n",
    "    elif bugun.weekday()==1:\n",
    "        return 'Tues'\n",
    "    elif bugun.weekday()==2:\n",
    "        return 'Wed'\n",
    "    elif bugun.weekday()==3:\n",
    "        return 'Thur'\n",
    "    elif bugun.weekday()==4:\n",
    "        return 'Fri'\n",
    "    elif bugun.weekday()==5:\n",
    "        return 'Sat'\n",
    "    elif bugun.weekday()==6:\n",
    "        return 'Sun'"
   ]
  },
  {
   "cell_type": "code",
   "execution_count": 89,
   "id": "976e05ca",
   "metadata": {},
   "outputs": [],
   "source": [
    "days = widgets.RadioButtons(\n",
    "options=['Sun','Mon','Tues','Wed','Thur','Fri','Sat'],\n",
    "value=today(),\n",
    "description='Days:',\n",
    "disabled = False) #eğer true yaparsak kullanamıyoruz.\n"
   ]
  },
  {
   "cell_type": "code",
   "execution_count": 90,
   "id": "edac4323",
   "metadata": {},
   "outputs": [],
   "source": [
    "time=widgets.VBox([widgets.HBox([choose_hour, choose_min,choose_ante_post]),days])\n",
    "tab=widgets.Tab()\n",
    "placeholder = widgets.Label() #tab adları için label\n",
    "tab.children = [placeholder,placeholder,placeholder] #kaç tane tab var\n",
    "tab.set_title(0,'Alarm')\n",
    "tab.set_title(1,'stopwatch')\n",
    "tab.set_title(2,'Countdown')\n"
   ]
  },
  {
   "cell_type": "code",
   "execution_count": 91,
   "id": "7cbf72e7",
   "metadata": {},
   "outputs": [],
   "source": [
    "out=widgets.Output()"
   ]
  },
  {
   "cell_type": "code",
   "execution_count": 92,
   "id": "91a611ff",
   "metadata": {},
   "outputs": [
    {
     "data": {
      "application/vnd.jupyter.widget-view+json": {
       "model_id": "22b04f73799b4de6bbc7420a662466c4",
       "version_major": 2,
       "version_minor": 0
      },
      "text/plain": [
       "Tab(children=(VBox(children=(HBox(children=(Dropdown(description='Hour:', layout=Layout(width='max-content'), …"
      ]
     },
     "metadata": {},
     "output_type": "display_data"
    }
   ],
   "source": [
    "tab.children = [time,out,out]\n",
    "tab"
   ]
  },
  {
   "cell_type": "code",
   "execution_count": 93,
   "id": "2bbcf383",
   "metadata": {},
   "outputs": [
    {
     "data": {
      "application/vnd.jupyter.widget-view+json": {
       "model_id": "564e3fbb7bf745689a8add0fc8240d46",
       "version_major": 2,
       "version_minor": 0
      },
      "text/plain": [
       "Text(value='', description='Alarm Name')"
      ]
     },
     "metadata": {},
     "output_type": "display_data"
    }
   ],
   "source": [
    "alarm_name=widgets.Text(description='Alarm Name',\n",
    "value='')\n",
    "alarm_name"
   ]
  },
  {
   "cell_type": "code",
   "execution_count": 94,
   "id": "0ed2e832",
   "metadata": {},
   "outputs": [
    {
     "data": {
      "application/vnd.jupyter.widget-view+json": {
       "model_id": "7bea209d8009436788dc1834661c470a",
       "version_major": 2,
       "version_minor": 0
      },
      "text/plain": [
       "Accordion(children=(VBox(children=(HBox(children=(Dropdown(description='Hour:', layout=Layout(width='max-conte…"
      ]
     },
     "metadata": {},
     "output_type": "display_data"
    }
   ],
   "source": [
    "accordion = widgets.Accordion()\n",
    "accordion.children= [\n",
    "    time,\n",
    "    out,    #sadece bir widget ekliyebiliyoruz.\n",
    "    alarm_name\n",
    "]\n",
    "\n",
    "accordion.set_title(0,'Time Setting')\n",
    "accordion.set_title(1, 'Choose Song')\n",
    "accordion.set_title(2, 'Alarm Name')\n",
    "value='Time Setting'\n",
    "accordion"
   ]
  },
  {
   "cell_type": "code",
   "execution_count": 95,
   "id": "1fa0e5fe",
   "metadata": {},
   "outputs": [
    {
     "data": {
      "application/vnd.jupyter.widget-view+json": {
       "model_id": "11bb258e7e5549f6989996ded60807f1",
       "version_major": 2,
       "version_minor": 0
      },
      "text/plain": [
       "Button(button_style='info', description='Ready', layout=Layout(height='30px', width='120px'), style=ButtonStyl…"
      ]
     },
     "metadata": {},
     "output_type": "display_data"
    }
   ],
   "source": [
    "layout = widgets.Layout(width='120px',  height='30px')\n",
    "button_Ready=widgets.Button(\n",
    "description='Ready',\n",
    "disabled=False,\n",
    "button_style='info',\n",
    "tooltip='click to Preview',\n",
    "layout = layout\n",
    ")\n",
    "button_Ready"
   ]
  },
  {
   "cell_type": "code",
   "execution_count": 96,
   "id": "f615a6d4",
   "metadata": {},
   "outputs": [
    {
     "data": {
      "application/vnd.jupyter.widget-view+json": {
       "model_id": "f5df59d6220c4601afcd0b9f7f270e0d",
       "version_major": 2,
       "version_minor": 0
      },
      "text/plain": [
       "Button(button_style='danger', description='Stop the music', layout=Layout(height='30px', width='120px'), style…"
      ]
     },
     "metadata": {},
     "output_type": "display_data"
    }
   ],
   "source": [
    "layout = widgets.Layout(width='120px',  height='30px')\n",
    "button_stopmusic=widgets.Button(\n",
    "description='Stop the music',\n",
    "disabled=False,\n",
    "button_style='danger',\n",
    "tooltip='turn off the song',\n",
    "layout = layout\n",
    ")\n",
    "button_stopmusic"
   ]
  },
  {
   "cell_type": "code",
   "execution_count": 97,
   "id": "5e85886f",
   "metadata": {},
   "outputs": [],
   "source": [
    "alarm_buttons = widgets.HBox([button_stopmusic,button_Ready,out])"
   ]
  },
  {
   "cell_type": "code",
   "execution_count": 98,
   "id": "2b020bb0",
   "metadata": {},
   "outputs": [
    {
     "data": {
      "application/vnd.jupyter.widget-view+json": {
       "model_id": "b2a92a58e87f4a77b7117683a7da6ab3",
       "version_major": 2,
       "version_minor": 0
      },
      "text/plain": [
       "IntSlider(value=0, continuous_update=False, description='Voice:', layout=Layout(width='250px'))"
      ]
     },
     "metadata": {},
     "output_type": "display_data"
    }
   ],
   "source": [
    "rows=widgets.IntSlider(\n",
    "value=0,\n",
    "step=1,\n",
    "description='Voice:',\n",
    "disabled=False, #eğer true yaparsak kullanamıyoruz.\n",
    "orientation='horizontal',\n",
    "continuous_update=False,\n",
    "readout=True, #sağdaki o anki değerinin kaç olduğunu gostermeye yarıyor\n",
    "readout_format='d',#artma çeşidi\n",
    "layout=Layout(width='250px') #uzunluk ayarı\n",
    "\n",
    ")\n",
    "rows"
   ]
  },
  {
   "cell_type": "code",
   "execution_count": 99,
   "id": "4779f610",
   "metadata": {},
   "outputs": [
    {
     "data": {
      "application/vnd.jupyter.widget-view+json": {
       "model_id": "8c1c8e24b3f943538a6eaa293422e7aa",
       "version_major": 2,
       "version_minor": 0
      },
      "text/plain": [
       "Dropdown(description='Music Name', layout=Layout(width='max-content'), options=('Wake up to Reality.wav', 'Ala…"
      ]
     },
     "metadata": {},
     "output_type": "display_data"
    }
   ],
   "source": [
    "music_name = widgets.Dropdown(\n",
    "options = ['Wake up to Reality.wav','Alarm Dangerous sound.wav', 'Techno Chicken.wav'],\n",
    "value ='Wake up to Reality.wav',\n",
    "layout = {'width':'max-content'},\n",
    "description = 'Music Name',\n",
    "disabled = False)\n",
    "music_name"
   ]
  },
  {
   "cell_type": "code",
   "execution_count": 100,
   "id": "1734e0cb",
   "metadata": {},
   "outputs": [
    {
     "data": {
      "application/vnd.jupyter.widget-view+json": {
       "model_id": "1f7e203a7128403aac23052806f85250",
       "version_major": 2,
       "version_minor": 0
      },
      "text/plain": [
       "VBox(children=(Dropdown(description='Music Name', layout=Layout(width='max-content'), options=('Wake up to Rea…"
      ]
     },
     "metadata": {},
     "output_type": "display_data"
    }
   ],
   "source": [
    "alarm_style=widgets.VBox([music_name])\n",
    "alarm_style"
   ]
  },
  {
   "cell_type": "code",
   "execution_count": 101,
   "id": "d89eeef7",
   "metadata": {},
   "outputs": [
    {
     "data": {
      "application/vnd.jupyter.widget-view+json": {
       "model_id": "5824fb8603ad4c23b5638c4355a4d0de",
       "version_major": 2,
       "version_minor": 0
      },
      "text/plain": [
       "Accordion(children=(VBox(children=(HBox(children=(Dropdown(description='Hour:', layout=Layout(width='max-conte…"
      ]
     },
     "metadata": {},
     "output_type": "display_data"
    }
   ],
   "source": [
    "accordion = widgets.Accordion()\n",
    "accordion.children= [\n",
    "    time,\n",
    "    alarm_style,    #sadece bir widget ekliyebiliyoruz.\n",
    "    alarm_name\n",
    "]\n",
    "\n",
    "accordion.set_title(0,'Time Setting')\n",
    "accordion.set_title(1, 'Sound Setting')\n",
    "accordion.set_title(2, 'Alarm Name')\n",
    "value='Time Setting'\n",
    "accordion"
   ]
  },
  {
   "cell_type": "code",
   "execution_count": 102,
   "id": "f6776e54",
   "metadata": {},
   "outputs": [
    {
     "data": {
      "application/vnd.jupyter.widget-view+json": {
       "model_id": "3663372a63594998a778c39272fff596",
       "version_major": 2,
       "version_minor": 0
      },
      "text/plain": [
       "VBox(children=(Accordion(children=(VBox(children=(HBox(children=(Dropdown(description='Hour:', layout=Layout(w…"
      ]
     },
     "metadata": {},
     "output_type": "display_data"
    }
   ],
   "source": [
    "last_type = widgets.VBox([accordion,alarm_buttons])\n",
    "last_type"
   ]
  },
  {
   "cell_type": "code",
   "execution_count": 103,
   "id": "05ec3d60",
   "metadata": {},
   "outputs": [
    {
     "data": {
      "application/vnd.jupyter.widget-view+json": {
       "model_id": "20a41f7af3874ee8adf82cacdaec07ed",
       "version_major": 2,
       "version_minor": 0
      },
      "text/plain": [
       "Text(value='00:00:00', layout=Layout(height='30px', width='200px'))"
      ]
     },
     "metadata": {},
     "output_type": "display_data"
    }
   ],
   "source": [
    "layout=widgets.Layout(width='200px',height='30px')\n",
    "stop_text=widgets.Text(\n",
    "layout=layout,\n",
    "value='00:00:00',\n",
    "#font_size='20',\n",
    "#font_weight='bold',\n",
    ")\n",
    "stop_text"
   ]
  },
  {
   "cell_type": "code",
   "execution_count": 104,
   "id": "552ca3a1",
   "metadata": {},
   "outputs": [
    {
     "data": {
      "application/vnd.jupyter.widget-view+json": {
       "model_id": "e98af1cd2fd5477997b5d6c8fcbadb0e",
       "version_major": 2,
       "version_minor": 0
      },
      "text/plain": [
       "Button(button_style='warning', description='Tour', layout=Layout(height='30px', width='120px'), style=ButtonSt…"
      ]
     },
     "metadata": {},
     "output_type": "display_data"
    }
   ],
   "source": [
    "layout = widgets.Layout(width='120px',  height='30px')\n",
    "button_tourstop=widgets.Button(\n",
    "description='Tour',\n",
    "disabled=False,\n",
    "button_style='warning',\n",
    "tooltip='click to finish',\n",
    "layout = layout,\n",
    ")\n",
    "#button_stop.style.button_color = 'lightgreen'\n",
    "button_tourstop"
   ]
  },
  {
   "cell_type": "code",
   "execution_count": 105,
   "id": "d0dffdfb",
   "metadata": {},
   "outputs": [
    {
     "data": {
      "application/vnd.jupyter.widget-view+json": {
       "model_id": "40c022cd510f4e65bf6e9de8bcecbe11",
       "version_major": 2,
       "version_minor": 0
      },
      "text/plain": [
       "Button(button_style='info', description='Start', layout=Layout(height='30px', width='120px'), style=ButtonStyl…"
      ]
     },
     "metadata": {},
     "output_type": "display_data"
    }
   ],
   "source": [
    "layout = widgets.Layout(width='120px',  height='30px')\n",
    "button_startstop=widgets.Button(\n",
    "description='Start',\n",
    "disabled=False,\n",
    "button_style='info',\n",
    "tooltip='click to Preview',\n",
    "layout = layout\n",
    ")\n",
    "button_startstop"
   ]
  },
  {
   "cell_type": "code",
   "execution_count": 106,
   "id": "8286ca26",
   "metadata": {},
   "outputs": [
    {
     "data": {
      "application/vnd.jupyter.widget-view+json": {
       "model_id": "e874a8f7c9da4913b89e4da9efd757ad",
       "version_major": 2,
       "version_minor": 0
      },
      "text/plain": [
       "Button(button_style='success', description='Stop', layout=Layout(height='30px', width='120px'), style=ButtonSt…"
      ]
     },
     "metadata": {},
     "output_type": "display_data"
    }
   ],
   "source": [
    "layout = widgets.Layout(width='120px',  height='30px')\n",
    "button_stopstop=widgets.Button(\n",
    "description='Stop',\n",
    "disabled=False,\n",
    "button_style='success',\n",
    "tooltip='click to finish',\n",
    "layout = layout,\n",
    ")\n",
    "#button_stop.style.button_color = 'lightgreen'\n",
    "button_stopstop"
   ]
  },
  {
   "cell_type": "code",
   "execution_count": 107,
   "id": "ffa2ce71",
   "metadata": {},
   "outputs": [
    {
     "data": {
      "application/vnd.jupyter.widget-view+json": {
       "model_id": "01db82ca56234dacac42b8b98ab40c7b",
       "version_major": 2,
       "version_minor": 0
      },
      "text/plain": [
       "VBox(children=(Text(value='00:00:00', layout=Layout(height='30px', width='200px')), HBox(children=(Button(butt…"
      ]
     },
     "metadata": {},
     "output_type": "display_data"
    }
   ],
   "source": [
    "stop_watch=widgets.VBox([stop_text,widgets.HBox([button_tourstop,button_startstop,button_stopstop])])\n",
    "stop_watch"
   ]
  },
  {
   "cell_type": "code",
   "execution_count": 108,
   "id": "abdc1954",
   "metadata": {},
   "outputs": [
    {
     "data": {
      "application/vnd.jupyter.widget-view+json": {
       "model_id": "22b04f73799b4de6bbc7420a662466c4",
       "version_major": 2,
       "version_minor": 0
      },
      "text/plain": [
       "Tab(children=(VBox(children=(Accordion(children=(VBox(children=(HBox(children=(Dropdown(description='Hour:', l…"
      ]
     },
     "metadata": {},
     "output_type": "display_data"
    }
   ],
   "source": [
    "tab.children = [last_type,stop_watch,out]\n",
    "tab"
   ]
  },
  {
   "cell_type": "code",
   "execution_count": 109,
   "id": "5739b34e",
   "metadata": {},
   "outputs": [
    {
     "data": {
      "application/vnd.jupyter.widget-view+json": {
       "model_id": "f6b94f1d3e184c078435ae6ac72a6c2d",
       "version_major": 2,
       "version_minor": 0
      },
      "text/plain": [
       "BoundedIntText(value=0, description='Hour:', layout=Layout(width='max-content'), max=12)"
      ]
     },
     "metadata": {},
     "output_type": "display_data"
    }
   ],
   "source": [
    "count_hour=widgets.BoundedIntText(\n",
    "    value=0,\n",
    "    min=0,\n",
    "    max=12,\n",
    "    step=1,\n",
    "    description='Hour:',\n",
    "    disabled=False,\n",
    "    layout={'width': 'max-content'}\n",
    ")\n",
    "count_hour"
   ]
  },
  {
   "cell_type": "code",
   "execution_count": 110,
   "id": "ab5bc0c0",
   "metadata": {},
   "outputs": [],
   "source": [
    "count_min=widgets.BoundedIntText(\n",
    "    value=0,\n",
    "    min=0,\n",
    "    max=59,\n",
    "    step=1,\n",
    "    description='Min:',\n",
    "    disabled=False,\n",
    "    layout={'width': 'max-content'}\n",
    ")"
   ]
  },
  {
   "cell_type": "code",
   "execution_count": 111,
   "id": "14b13aef",
   "metadata": {},
   "outputs": [
    {
     "data": {
      "application/vnd.jupyter.widget-view+json": {
       "model_id": "8af0e6eaa11747d2ab791b4f6f757a82",
       "version_major": 2,
       "version_minor": 0
      },
      "text/plain": [
       "BoundedIntText(value=0, description='sec:', layout=Layout(width='max-content'), max=59)"
      ]
     },
     "metadata": {},
     "output_type": "display_data"
    }
   ],
   "source": [
    "count_sec=widgets.BoundedIntText(\n",
    "    value=0,\n",
    "    min=0,\n",
    "    max=59,\n",
    "    step=1,\n",
    "    description='sec:',\n",
    "    disabled=False,\n",
    "    layout={'width': 'max-content'}\n",
    ")\n",
    "count_sec"
   ]
  },
  {
   "cell_type": "code",
   "execution_count": 112,
   "id": "1b352873",
   "metadata": {},
   "outputs": [
    {
     "data": {
      "application/vnd.jupyter.widget-view+json": {
       "model_id": "7f9ef460b43c423398c66c2f39169259",
       "version_major": 2,
       "version_minor": 0
      },
      "text/plain": [
       "Button(button_style='danger', description='Cancel', layout=Layout(height='30px', width='120px'), style=ButtonS…"
      ]
     },
     "metadata": {},
     "output_type": "display_data"
    }
   ],
   "source": [
    "layout = widgets.Layout(width='120px',  height='30px')\n",
    "button_cancel=widgets.Button(\n",
    "description='Cancel',\n",
    "disabled=False,\n",
    "button_style='danger',\n",
    "tooltip='click to finish',\n",
    "layout = layout\n",
    ")\n",
    "button_cancel"
   ]
  },
  {
   "cell_type": "code",
   "execution_count": 113,
   "id": "14d4ce43",
   "metadata": {},
   "outputs": [
    {
     "data": {
      "application/vnd.jupyter.widget-view+json": {
       "model_id": "0b2e76e23e624c4fa3df215a5e4dff2d",
       "version_major": 2,
       "version_minor": 0
      },
      "text/plain": [
       "Button(button_style='info', description='Start', layout=Layout(height='30px', width='120px'), style=ButtonStyl…"
      ]
     },
     "metadata": {},
     "output_type": "display_data"
    }
   ],
   "source": [
    "layout = widgets.Layout(width='120px',  height='30px')\n",
    "button_start=widgets.Button(\n",
    "description='Start',\n",
    "disabled=False,\n",
    "button_style='info',\n",
    "tooltip='click to Preview',\n",
    "layout = layout\n",
    ")\n",
    "button_start"
   ]
  },
  {
   "cell_type": "code",
   "execution_count": 114,
   "id": "e6e304e0",
   "metadata": {},
   "outputs": [
    {
     "data": {
      "application/vnd.jupyter.widget-view+json": {
       "model_id": "869b0fc265d74f5d846acdf6c58ab64b",
       "version_major": 2,
       "version_minor": 0
      },
      "text/plain": [
       "Button(button_style='success', description='Stop', layout=Layout(height='30px', width='120px'), style=ButtonSt…"
      ]
     },
     "metadata": {},
     "output_type": "display_data"
    }
   ],
   "source": [
    "layout = widgets.Layout(width='120px',  height='30px')\n",
    "button_stop=widgets.Button(\n",
    "description='Stop',\n",
    "disabled=False,\n",
    "button_style='success',\n",
    "tooltip='click to finish',\n",
    "layout = layout,\n",
    ")\n",
    "#button_stop.style.button_color = 'lightgreen'\n",
    "button_stop"
   ]
  },
  {
   "cell_type": "code",
   "execution_count": 115,
   "id": "0de9acf5",
   "metadata": {},
   "outputs": [
    {
     "data": {
      "application/vnd.jupyter.widget-view+json": {
       "model_id": "0d92e77176bb45518992031adc62671f",
       "version_major": 2,
       "version_minor": 0
      },
      "text/plain": [
       "Text(value='', description='Remaining Time:', layout=Layout(height='30px', width='180px'), style=DescriptionSt…"
      ]
     },
     "metadata": {},
     "output_type": "display_data"
    }
   ],
   "source": [
    "style = {'description_width': 'initial'}\n",
    "layout = widgets.Layout(width='180px',  height='30px')\n",
    "remaining_time=widgets.Text(description='Remaining Time:',\n",
    "style=style,\n",
    "layout = layout,\n",
    "disabled=False)\n",
    "remaining_time"
   ]
  },
  {
   "cell_type": "code",
   "execution_count": 116,
   "id": "6024cb7f",
   "metadata": {},
   "outputs": [
    {
     "data": {
      "application/vnd.jupyter.widget-view+json": {
       "model_id": "e981f26203a740b8887345becce7d020",
       "version_major": 2,
       "version_minor": 0
      },
      "text/plain": [
       "VBox(children=(HBox(children=(BoundedIntText(value=0, description='Hour:', layout=Layout(width='max-content'),…"
      ]
     },
     "metadata": {},
     "output_type": "display_data"
    }
   ],
   "source": [
    "count_down=widgets.VBox([widgets.HBox([count_hour,count_min,count_sec]),widgets.HBox([button_cancel,button_start,button_stop,remaining_time])])\n",
    "count_down"
   ]
  },
  {
   "cell_type": "code",
   "execution_count": 117,
   "id": "cb3b444e",
   "metadata": {},
   "outputs": [
    {
     "data": {
      "application/vnd.jupyter.widget-view+json": {
       "model_id": "22b04f73799b4de6bbc7420a662466c4",
       "version_major": 2,
       "version_minor": 0
      },
      "text/plain": [
       "Tab(children=(VBox(children=(Accordion(children=(VBox(children=(HBox(children=(Dropdown(description='Hour:', l…"
      ]
     },
     "metadata": {},
     "output_type": "display_data"
    }
   ],
   "source": [
    "tab.children = [last_type,stop_watch,count_down]\n",
    "tab"
   ]
  },
  {
   "cell_type": "code",
   "execution_count": 118,
   "id": "552eda31",
   "metadata": {},
   "outputs": [],
   "source": [
    "today=date.today()"
   ]
  },
  {
   "cell_type": "code",
   "execution_count": 125,
   "id": "d346c8c7",
   "metadata": {},
   "outputs": [],
   "source": [
    "def time_set():\n",
    "    with out:\n",
    "        out.clear_output()\n",
    "        print(\"Alarm ready..\")\n",
    "   # counter2=0\n",
    "    \n",
    "    #if counter2==1:\n",
    "    #else:\n",
    "     #   counter2=1\n",
    "    alarmhour = int(choose_hour.value)\n",
    "    alarmmin = int(choose_min.value)\n",
    "    alarmAm = choose_ante_post.value\n",
    "    alarmday=days.value\n",
    "    if alarmday=='Mon':\n",
    "        alarmday = 0\n",
    "    elif alarmday=='Tues':\n",
    "        alarmday = 1\n",
    "    elif alarmday=='Wed':\n",
    "        alarmday = 2\n",
    "    elif alarmday=='Thur':\n",
    "        alarmday = 3\n",
    "    elif alarmday=='Fri':\n",
    "        alarmday = 4\n",
    "    elif alarmday=='Sat':\n",
    "        alarmday = 5\n",
    "    elif alarmday=='Sun':\n",
    "        alarmday = 6\n",
    "    if alarmAm=='pm':\n",
    "        alarmhour+=12\n",
    "    while True:\n",
    "        if alarmhour==datetime.datetime.now().hour and alarmmin==datetime.datetime.now().minute and alarmday==today.weekday():\n",
    "            with out:\n",
    "                out.clear_output()\n",
    "                print(alarm_name.value)  \n",
    "                #song = winsound.PlaySound(r'Wake up to Reality.wav', winsound.SND_ASYNC)\n",
    "                the_music = music_name.value\n",
    "                \n",
    "                song = winsound.PlaySound(the_music, winsound.SND_ASYNC)\n",
    "                \n",
    "                break\n",
    "            "
   ]
  },
  {
   "cell_type": "code",
   "execution_count": 120,
   "id": "826cf724",
   "metadata": {},
   "outputs": [],
   "source": [
    "def time_set_click(b):\n",
    "    time_set()\n",
    "button_Ready.on_click(time_set_click)"
   ]
  },
  {
   "cell_type": "code",
   "execution_count": 121,
   "id": "cf41bab1",
   "metadata": {},
   "outputs": [],
   "source": [
    "def turnoff_song():\n",
    "    winsound.PlaySound(None, winsound.SND_PURGE)\n",
    "    with out:\n",
    "        out.clear_output()\n",
    "        print(\"alarm goes off..\")"
   ]
  },
  {
   "cell_type": "code",
   "execution_count": 122,
   "id": "558c9698",
   "metadata": {},
   "outputs": [],
   "source": [
    "def turnoff_song_click(c):\n",
    "    turnoff_song()\n",
    "button_stopmusic.on_click(turnoff_song_click)"
   ]
  },
  {
   "cell_type": "code",
   "execution_count": 127,
   "id": "1ee8e64d",
   "metadata": {
    "scrolled": false
   },
   "outputs": [
    {
     "data": {
      "application/vnd.jupyter.widget-view+json": {
       "model_id": "22b04f73799b4de6bbc7420a662466c4",
       "version_major": 2,
       "version_minor": 0
      },
      "text/plain": [
       "Tab(children=(VBox(children=(Accordion(children=(VBox(children=(HBox(children=(Dropdown(description='Hour:', i…"
      ]
     },
     "metadata": {},
     "output_type": "display_data"
    }
   ],
   "source": [
    "tab\n"
   ]
  },
  {
   "cell_type": "code",
   "execution_count": 124,
   "id": "c09b4e00",
   "metadata": {},
   "outputs": [
    {
     "data": {
      "application/vnd.jupyter.widget-view+json": {
       "model_id": "94b36c068b4d4a6c8e232ef431436443",
       "version_major": 2,
       "version_minor": 0
      },
      "text/plain": [
       "Output()"
      ]
     },
     "metadata": {},
     "output_type": "display_data"
    }
   ],
   "source": [
    "out"
   ]
  },
  {
   "cell_type": "code",
   "execution_count": null,
   "id": "c971b751",
   "metadata": {},
   "outputs": [],
   "source": []
  }
 ],
 "metadata": {
  "kernelspec": {
   "display_name": "Python 3 (ipykernel)",
   "language": "python",
   "name": "python3"
  },
  "language_info": {
   "codemirror_mode": {
    "name": "ipython",
    "version": 3
   },
   "file_extension": ".py",
   "mimetype": "text/x-python",
   "name": "python",
   "nbconvert_exporter": "python",
   "pygments_lexer": "ipython3",
   "version": "3.9.13"
  }
 },
 "nbformat": 4,
 "nbformat_minor": 5
}
