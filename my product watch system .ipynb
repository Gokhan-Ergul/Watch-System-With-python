{
 "cells": [
  {
   "cell_type": "code",
   "execution_count": 63,
   "id": "0ce4aa17",
   "metadata": {},
   "outputs": [],
   "source": [
    "import winsound\n",
    "import datetime\n",
    "import time\n",
    "from datetime import date\n",
    "from datetime import datetime\n",
    "from ipywidgets import Layout\n",
    "import ipywidgets as widgets\n",
    "from IPython.display import display, HTML\n",
    "import multiprocessing\n",
    "import threading\n",
    "import os"
   ]
  },
  {
   "cell_type": "code",
   "execution_count": 64,
   "id": "06294efd",
   "metadata": {},
   "outputs": [
    {
     "data": {
      "application/vnd.jupyter.widget-view+json": {
       "model_id": "7930bac3b6f04996aad4bdb895825a9d",
       "version_major": 2,
       "version_minor": 0
      },
      "text/plain": [
       "Dropdown(description='Hour:', layout=Layout(width='max-content'), options=('00', '01', '02', '03', '04', '05',…"
      ]
     },
     "metadata": {},
     "output_type": "display_data"
    }
   ],
   "source": [
    "list1 = [] \n",
    "for i in range(0,13):\n",
    "        list1.append(str(i).zfill(2))\n",
    "    \n",
    "choose_hour = widgets.Dropdown(\n",
    "    options = list1,\n",
    "    value='00',\n",
    "    layout={'width': 'max-content'},\n",
    "    description='Hour:',\n",
    "    disabled=False\n",
    ")\n",
    "\n",
    "display(choose_hour)"
   ]
  },
  {
   "cell_type": "code",
   "execution_count": 65,
   "id": "bd5ce7a3",
   "metadata": {},
   "outputs": [
    {
     "data": {
      "application/vnd.jupyter.widget-view+json": {
       "model_id": "e353c70316fa4f299938c647dbfd9273",
       "version_major": 2,
       "version_minor": 0
      },
      "text/plain": [
       "Dropdown(description='Min:', layout=Layout(width='max-content'), options=('00', '01', '02', '03', '04', '05', …"
      ]
     },
     "execution_count": 65,
     "metadata": {},
     "output_type": "execute_result"
    }
   ],
   "source": [
    "list2 = []\n",
    "for i in range(0,61):\n",
    "    list2.append(str(i).zfill(2))\n",
    "\n",
    "choose_min=widgets.Dropdown(\n",
    "options = list2,\n",
    "value='00',\n",
    "layout={'width': 'max-content'},\n",
    "description='Min:',\n",
    "disabled=False)\n",
    "choose_min"
   ]
  },
  {
   "cell_type": "code",
   "execution_count": 66,
   "id": "a5550100",
   "metadata": {},
   "outputs": [
    {
     "data": {
      "application/vnd.jupyter.widget-view+json": {
       "model_id": "f0d72f6154834518920803c95aa0700c",
       "version_major": 2,
       "version_minor": 0
      },
      "text/plain": [
       "Dropdown(description='part of day', layout=Layout(width='max-content'), options=('am', 'pm'), value='am')"
      ]
     },
     "execution_count": 66,
     "metadata": {},
     "output_type": "execute_result"
    }
   ],
   "source": [
    "choose_ante_post = widgets.Dropdown(\n",
    "options = ['am','pm'],\n",
    "value ='am',\n",
    "layout = {'width':'max-content'},\n",
    "description = 'part of day',\n",
    "disabled = False)\n",
    "choose_ante_post"
   ]
  },
  {
   "cell_type": "code",
   "execution_count": 67,
   "id": "e45ccb60",
   "metadata": {},
   "outputs": [],
   "source": [
    "def today():\n",
    "    bugun=date.today()\n",
    "    if bugun.weekday()==0:\n",
    "        return 'Mon'\n",
    "    elif bugun.weekday()==1:\n",
    "        return 'Tues'\n",
    "    elif bugun.weekday()==2:\n",
    "        return 'Wed'\n",
    "    elif bugun.weekday()==3:\n",
    "        return 'Thur'\n",
    "    elif bugun.weekday()==4:\n",
    "        return 'Fri'\n",
    "    elif bugun.weekday()==5:\n",
    "        return 'Sat'\n",
    "    elif bugun.weekday()==6:\n",
    "        return 'Sun'"
   ]
  },
  {
   "cell_type": "code",
   "execution_count": 68,
   "id": "976e05ca",
   "metadata": {},
   "outputs": [
    {
     "data": {
      "application/vnd.jupyter.widget-view+json": {
       "model_id": "93ba6a4e09e74e01a003269391137323",
       "version_major": 2,
       "version_minor": 0
      },
      "text/plain": [
       "RadioButtons(description='Days:', options=('Sun', 'Mon', 'Tues', 'Wed', 'Thur', 'Fri', 'Sat'), value='Sun')"
      ]
     },
     "execution_count": 68,
     "metadata": {},
     "output_type": "execute_result"
    }
   ],
   "source": [
    "days = widgets.RadioButtons(\n",
    "options=['Sun','Mon','Tues','Wed','Thur','Fri','Sat'],\n",
    "value=today(),\n",
    "description='Days:',\n",
    "disabled = False)\n",
    "days"
   ]
  },
  {
   "cell_type": "code",
   "execution_count": 69,
   "id": "edac4323",
   "metadata": {},
   "outputs": [],
   "source": [
    "time=widgets.VBox([widgets.HBox([choose_hour, choose_min, choose_ante_post]),days])\n"
   ]
  },
  {
   "cell_type": "code",
   "execution_count": 70,
   "id": "7ddb25e6-e0b2-4642-9932-213d6ace5b46",
   "metadata": {},
   "outputs": [
    {
     "data": {
      "application/vnd.jupyter.widget-view+json": {
       "model_id": "8062ff854a9448559bdf6a7ccccb5a08",
       "version_major": 2,
       "version_minor": 0
      },
      "text/plain": [
       "Tab(children=(Label(value=''), Label(value=''), Label(value=''), Label(value='')), selected_index=0, titles=('…"
      ]
     },
     "execution_count": 70,
     "metadata": {},
     "output_type": "execute_result"
    }
   ],
   "source": [
    "tab=widgets.Tab()\n",
    "placeholder = widgets.Label() #tab adları için label\n",
    "tab.children = [placeholder, placeholder, placeholder, placeholder] #kaç tane tab var\n",
    "tab.set_title(0,'Alarm')\n",
    "tab.set_title(1,'stopwatch')\n",
    "tab.set_title(2,'Countdown')\n",
    "tab.set_title(3,'World Clocks')\n",
    "tab"
   ]
  },
  {
   "cell_type": "code",
   "execution_count": 71,
   "id": "7cbf72e7",
   "metadata": {},
   "outputs": [],
   "source": [
    "out=widgets.Output()"
   ]
  },
  {
   "cell_type": "code",
   "execution_count": 72,
   "id": "91a611ff",
   "metadata": {},
   "outputs": [
    {
     "data": {
      "application/vnd.jupyter.widget-view+json": {
       "model_id": "8062ff854a9448559bdf6a7ccccb5a08",
       "version_major": 2,
       "version_minor": 0
      },
      "text/plain": [
       "Tab(children=(VBox(children=(HBox(children=(Dropdown(description='Hour:', layout=Layout(width='max-content'), …"
      ]
     },
     "execution_count": 72,
     "metadata": {},
     "output_type": "execute_result"
    }
   ],
   "source": [
    "tab.children = [time,out,out,out]\n",
    "tab"
   ]
  },
  {
   "cell_type": "code",
   "execution_count": 73,
   "id": "2bbcf383",
   "metadata": {},
   "outputs": [
    {
     "data": {
      "application/vnd.jupyter.widget-view+json": {
       "model_id": "6bcd3951526e458fb70cbea79ab7466b",
       "version_major": 2,
       "version_minor": 0
      },
      "text/plain": [
       "Text(value='', description='Alarm Name')"
      ]
     },
     "execution_count": 73,
     "metadata": {},
     "output_type": "execute_result"
    }
   ],
   "source": [
    "alarm_name = widgets.Text(description='Alarm Name')\n",
    "alarm_name"
   ]
  },
  {
   "cell_type": "code",
   "execution_count": 74,
   "id": "0ed2e832",
   "metadata": {},
   "outputs": [
    {
     "data": {
      "application/vnd.jupyter.widget-view+json": {
       "model_id": "343c56ff88cb4658ba463659a990f9c3",
       "version_major": 2,
       "version_minor": 0
      },
      "text/plain": [
       "Accordion(children=(VBox(children=(HBox(children=(Dropdown(description='Hour:', layout=Layout(width='max-conte…"
      ]
     },
     "execution_count": 74,
     "metadata": {},
     "output_type": "execute_result"
    }
   ],
   "source": [
    "accordion = widgets.Accordion()\n",
    "accordion.children = [\n",
    "    time,\n",
    "    out,    #sadece bir widget ekliyebiliyoruz.\n",
    "    alarm_name\n",
    "]\n",
    "\n",
    "accordion.set_title(0,'Time Setting')\n",
    "accordion.set_title(1, 'Choose Song')\n",
    "accordion.set_title(2, 'Alarm Name')\n",
    "value='Time Setting'\n",
    "accordion"
   ]
  },
  {
   "cell_type": "code",
   "execution_count": 75,
   "id": "1fa0e5fe",
   "metadata": {},
   "outputs": [
    {
     "data": {
      "application/vnd.jupyter.widget-view+json": {
       "model_id": "3b317ab9169d47eabc79abebc37f461d",
       "version_major": 2,
       "version_minor": 0
      },
      "text/plain": [
       "Button(button_style='info', description='Ready', layout=Layout(height='30px', width='120px'), style=ButtonStyl…"
      ]
     },
     "execution_count": 75,
     "metadata": {},
     "output_type": "execute_result"
    }
   ],
   "source": [
    "layout = widgets.Layout(width='120px',  height='30px')\n",
    "button_Ready=widgets.Button(\n",
    "description='Ready',\n",
    "disabled=False,\n",
    "button_style='info',\n",
    "tooltip='click to Preview', #mouse butonunun uzerindeyken bu yazi cikar.\n",
    "layout = layout\n",
    ")\n",
    "button_Ready"
   ]
  },
  {
   "cell_type": "code",
   "execution_count": 76,
   "id": "f615a6d4",
   "metadata": {},
   "outputs": [
    {
     "data": {
      "application/vnd.jupyter.widget-view+json": {
       "model_id": "4629b26b1f04457bac55bb7873c30ce7",
       "version_major": 2,
       "version_minor": 0
      },
      "text/plain": [
       "Button(button_style='danger', description='Stop the music', layout=Layout(height='30px', width='120px'), style…"
      ]
     },
     "execution_count": 76,
     "metadata": {},
     "output_type": "execute_result"
    }
   ],
   "source": [
    "layout = widgets.Layout(width='120px',  height='30px')\n",
    "button_stopmusic=widgets.Button(\n",
    "description='Stop the music',\n",
    "disabled=False,\n",
    "button_style='danger',\n",
    "tooltip='turn off the song',\n",
    "layout = layout\n",
    ")\n",
    "button_stopmusic"
   ]
  },
  {
   "cell_type": "code",
   "execution_count": 77,
   "id": "5e85886f",
   "metadata": {},
   "outputs": [],
   "source": [
    "alarm_buttons = widgets.HBox([button_stopmusic, button_Ready, out])"
   ]
  },
  {
   "cell_type": "code",
   "execution_count": 78,
   "id": "2b020bb0",
   "metadata": {},
   "outputs": [
    {
     "data": {
      "application/vnd.jupyter.widget-view+json": {
       "model_id": "4021f779b3b74abd832a531d57eaa861",
       "version_major": 2,
       "version_minor": 0
      },
      "text/plain": [
       "IntSlider(value=0, continuous_update=False, description='Voice:', layout=Layout(width='250px'))"
      ]
     },
     "execution_count": 78,
     "metadata": {},
     "output_type": "execute_result"
    }
   ],
   "source": [
    "rows=widgets.IntSlider(\n",
    "value=0,\n",
    "step=1,\n",
    "description='Voice:',\n",
    "disabled=False, #eğer true yaparsak kullanamıyoruz.\n",
    "orientation='horizontal',\n",
    "continuous_update=False,\n",
    "readout=True, #sağdaki o anki değerinin kaç olduğunu gostermeye yarıyor\n",
    "readout_format='d', #artma çeşidi\n",
    "layout=Layout(width='250px') #uzunluk ayarı\n",
    ")\n",
    "rows"
   ]
  },
  {
   "cell_type": "code",
   "execution_count": 79,
   "id": "4779f610",
   "metadata": {},
   "outputs": [
    {
     "data": {
      "application/vnd.jupyter.widget-view+json": {
       "model_id": "baa018ff5aa14d5aa7a5143bceb93d6f",
       "version_major": 2,
       "version_minor": 0
      },
      "text/plain": [
       "Dropdown(description='Music Name', layout=Layout(width='max-content'), options=('Wake up to Reality.wav', 'Ala…"
      ]
     },
     "execution_count": 79,
     "metadata": {},
     "output_type": "execute_result"
    }
   ],
   "source": [
    "music_name = widgets.Dropdown(\n",
    "options = ['Wake up to Reality.wav','Alarm Dangerous sound.wav', 'Techno Chicken.wav'],\n",
    "value ='Wake up to Reality.wav',\n",
    "layout = {'width':'max-content'},\n",
    "description = 'Music Name',\n",
    "disabled = False)\n",
    "music_name"
   ]
  },
  {
   "cell_type": "code",
   "execution_count": 80,
   "id": "1734e0cb",
   "metadata": {},
   "outputs": [
    {
     "data": {
      "application/vnd.jupyter.widget-view+json": {
       "model_id": "4b041429757849558028576a0ba1d3bb",
       "version_major": 2,
       "version_minor": 0
      },
      "text/plain": [
       "VBox(children=(Dropdown(description='Music Name', layout=Layout(width='max-content'), options=('Wake up to Rea…"
      ]
     },
     "execution_count": 80,
     "metadata": {},
     "output_type": "execute_result"
    }
   ],
   "source": [
    "alarm_style=widgets.VBox([music_name])\n",
    "alarm_style"
   ]
  },
  {
   "cell_type": "code",
   "execution_count": 81,
   "id": "d89eeef7",
   "metadata": {},
   "outputs": [
    {
     "data": {
      "application/vnd.jupyter.widget-view+json": {
       "model_id": "33e180de35114460a98bc1cb963694e1",
       "version_major": 2,
       "version_minor": 0
      },
      "text/plain": [
       "Accordion(children=(VBox(children=(HBox(children=(Dropdown(description='Hour:', layout=Layout(width='max-conte…"
      ]
     },
     "execution_count": 81,
     "metadata": {},
     "output_type": "execute_result"
    }
   ],
   "source": [
    "accordion = widgets.Accordion()\n",
    "accordion.children= [\n",
    "    time,\n",
    "    alarm_style,    #sadece bir widget ekliyebiliyoruz.\n",
    "    alarm_name\n",
    "]\n",
    "accordion.set_title(0,'Time Setting')\n",
    "accordion.set_title(1, 'Sound Setting')\n",
    "accordion.set_title(2, 'Alarm Name')\n",
    "value='Time Setting'\n",
    "\n",
    "accordion"
   ]
  },
  {
   "cell_type": "code",
   "execution_count": 82,
   "id": "f6776e54",
   "metadata": {},
   "outputs": [
    {
     "data": {
      "application/vnd.jupyter.widget-view+json": {
       "model_id": "79fb790eac0145b3afb9e314061924a2",
       "version_major": 2,
       "version_minor": 0
      },
      "text/plain": [
       "VBox(children=(Accordion(children=(VBox(children=(HBox(children=(Dropdown(description='Hour:', layout=Layout(w…"
      ]
     },
     "execution_count": 82,
     "metadata": {},
     "output_type": "execute_result"
    }
   ],
   "source": [
    "last_type = widgets.VBox([accordion, alarm_buttons])\n",
    "last_type"
   ]
  },
  {
   "cell_type": "code",
   "execution_count": 83,
   "id": "05ec3d60",
   "metadata": {},
   "outputs": [
    {
     "data": {
      "application/vnd.jupyter.widget-view+json": {
       "model_id": "24f051c9a0f5447ba442d1f015061574",
       "version_major": 2,
       "version_minor": 0
      },
      "text/plain": [
       "Text(value='00:00:00', layout=Layout(height='30px', width='200px'))"
      ]
     },
     "execution_count": 83,
     "metadata": {},
     "output_type": "execute_result"
    }
   ],
   "source": [
    "layout=widgets.Layout(width='200px',height='30px')\n",
    "stop_text=widgets.Text(\n",
    "layout=layout,\n",
    "value='00:00:00',\n",
    "#font_size='20',\n",
    "#font_weight='bold',\n",
    ")\n",
    "stop_text"
   ]
  },
  {
   "cell_type": "code",
   "execution_count": 84,
   "id": "552ca3a1",
   "metadata": {},
   "outputs": [
    {
     "data": {
      "application/vnd.jupyter.widget-view+json": {
       "model_id": "74ae9c41389f4908bceca0c847e70976",
       "version_major": 2,
       "version_minor": 0
      },
      "text/plain": [
       "Button(button_style='warning', description='Reset', layout=Layout(height='30px', width='120px'), style=ButtonS…"
      ]
     },
     "execution_count": 84,
     "metadata": {},
     "output_type": "execute_result"
    }
   ],
   "source": [
    "layout = widgets.Layout(width='120px',  height='30px')\n",
    "button_resetstop=widgets.Button(\n",
    "description='Reset',\n",
    "disabled=False,\n",
    "button_style='warning',\n",
    "tooltip='click to finish',\n",
    "layout = layout,\n",
    ")\n",
    "#button_stop.style.button_color = 'lightgreen'\n",
    "button_resetstop"
   ]
  },
  {
   "cell_type": "code",
   "execution_count": 85,
   "id": "d0dffdfb",
   "metadata": {},
   "outputs": [
    {
     "data": {
      "application/vnd.jupyter.widget-view+json": {
       "model_id": "d6b4be05e4684205b8a603009594f17b",
       "version_major": 2,
       "version_minor": 0
      },
      "text/plain": [
       "Button(button_style='info', description='Start', layout=Layout(height='30px', width='120px'), style=ButtonStyl…"
      ]
     },
     "execution_count": 85,
     "metadata": {},
     "output_type": "execute_result"
    }
   ],
   "source": [
    "layout = widgets.Layout(width='120px',  height='30px')\n",
    "button_startstop=widgets.Button(\n",
    "description='Start',\n",
    "disabled=False,\n",
    "button_style='info',\n",
    "tooltip='starts the stopwatch',\n",
    "layout = layout\n",
    ")\n",
    "button_startstop"
   ]
  },
  {
   "cell_type": "code",
   "execution_count": 86,
   "id": "8286ca26",
   "metadata": {},
   "outputs": [
    {
     "data": {
      "application/vnd.jupyter.widget-view+json": {
       "model_id": "7cebce1a2f144065a38516e4071aeb13",
       "version_major": 2,
       "version_minor": 0
      },
      "text/plain": [
       "Button(button_style='success', description='Stop', layout=Layout(height='30px', width='120px'), style=ButtonSt…"
      ]
     },
     "execution_count": 86,
     "metadata": {},
     "output_type": "execute_result"
    }
   ],
   "source": [
    "layout = widgets.Layout(width='120px',  height='30px')\n",
    "button_stopstop=widgets.Button(\n",
    "description='Stop',\n",
    "disabled=False,\n",
    "button_style='success',\n",
    "tooltip='click to finish',\n",
    "layout = layout,\n",
    ")\n",
    "#button_stop.style.button_color = 'lightgreen'\n",
    "button_stopstop"
   ]
  },
  {
   "cell_type": "code",
   "execution_count": 87,
   "id": "ffa2ce71",
   "metadata": {},
   "outputs": [
    {
     "data": {
      "application/vnd.jupyter.widget-view+json": {
       "model_id": "33f9a172504f4c29b7797a7f46857285",
       "version_major": 2,
       "version_minor": 0
      },
      "text/plain": [
       "VBox(children=(Text(value='00:00:00', layout=Layout(height='30px', width='200px')), HBox(children=(Button(butt…"
      ]
     },
     "execution_count": 87,
     "metadata": {},
     "output_type": "execute_result"
    }
   ],
   "source": [
    "stop_watch=widgets.VBox([stop_text,widgets.HBox([button_resetstop,button_startstop,button_stopstop])])\n",
    "stop_watch"
   ]
  },
  {
   "cell_type": "code",
   "execution_count": 88,
   "id": "abdc1954",
   "metadata": {},
   "outputs": [
    {
     "data": {
      "application/vnd.jupyter.widget-view+json": {
       "model_id": "8062ff854a9448559bdf6a7ccccb5a08",
       "version_major": 2,
       "version_minor": 0
      },
      "text/plain": [
       "Tab(children=(VBox(children=(Accordion(children=(VBox(children=(HBox(children=(Dropdown(description='Hour:', l…"
      ]
     },
     "execution_count": 88,
     "metadata": {},
     "output_type": "execute_result"
    }
   ],
   "source": [
    "tab.children = [last_type,stop_watch,out, out]\n",
    "tab"
   ]
  },
  {
   "cell_type": "code",
   "execution_count": 89,
   "id": "5739b34e",
   "metadata": {},
   "outputs": [
    {
     "data": {
      "application/vnd.jupyter.widget-view+json": {
       "model_id": "d2b10c5df2f54f2fa03295c63be06fc6",
       "version_major": 2,
       "version_minor": 0
      },
      "text/plain": [
       "BoundedIntText(value=0, description='Hour:', layout=Layout(width='max-content'), max=12)"
      ]
     },
     "execution_count": 89,
     "metadata": {},
     "output_type": "execute_result"
    }
   ],
   "source": [
    "count_hour=widgets.BoundedIntText(\n",
    "    value=0,\n",
    "    min=0,\n",
    "    max=12,\n",
    "    step=1,\n",
    "    description='Hour:',\n",
    "    disabled=False,\n",
    "    layout={'width': 'max-content'}\n",
    ")\n",
    "count_hour"
   ]
  },
  {
   "cell_type": "code",
   "execution_count": 90,
   "id": "ab5bc0c0",
   "metadata": {},
   "outputs": [
    {
     "data": {
      "application/vnd.jupyter.widget-view+json": {
       "model_id": "d6d9a2b71ee4470f8d6ae545ebb8a56d",
       "version_major": 2,
       "version_minor": 0
      },
      "text/plain": [
       "BoundedIntText(value=0, description='Min:', layout=Layout(width='max-content'), max=59)"
      ]
     },
     "execution_count": 90,
     "metadata": {},
     "output_type": "execute_result"
    }
   ],
   "source": [
    "count_min=widgets.BoundedIntText(\n",
    "    value=0,\n",
    "    min=0,\n",
    "    max=59,\n",
    "    step=1,\n",
    "    description='Min:',\n",
    "    disabled=False,\n",
    "    layout={'width': 'max-content'}\n",
    ")\n",
    "count_min"
   ]
  },
  {
   "cell_type": "code",
   "execution_count": 91,
   "id": "14b13aef",
   "metadata": {},
   "outputs": [
    {
     "data": {
      "application/vnd.jupyter.widget-view+json": {
       "model_id": "99487fd66fd24c7f9e620b75222a4b89",
       "version_major": 2,
       "version_minor": 0
      },
      "text/plain": [
       "BoundedIntText(value=0, description='sec:', layout=Layout(width='max-content'), max=59)"
      ]
     },
     "execution_count": 91,
     "metadata": {},
     "output_type": "execute_result"
    }
   ],
   "source": [
    "count_sec=widgets.BoundedIntText(\n",
    "    value=0,\n",
    "    min=0,\n",
    "    max=59,\n",
    "    step=1,\n",
    "    description='sec:',\n",
    "    disabled=False,\n",
    "    layout={'width': 'max-content'}\n",
    ")\n",
    "count_sec"
   ]
  },
  {
   "cell_type": "code",
   "execution_count": 92,
   "id": "1b352873",
   "metadata": {},
   "outputs": [
    {
     "data": {
      "application/vnd.jupyter.widget-view+json": {
       "model_id": "9b1a598053f74825be8cc656204f9ee2",
       "version_major": 2,
       "version_minor": 0
      },
      "text/plain": [
       "Button(button_style='danger', description='Cancel', layout=Layout(height='30px', width='120px'), style=ButtonS…"
      ]
     },
     "execution_count": 92,
     "metadata": {},
     "output_type": "execute_result"
    }
   ],
   "source": [
    "layout = widgets.Layout(width='120px',  height='30px')\n",
    "button_cancel=widgets.Button(\n",
    "description='Cancel',\n",
    "disabled=False,\n",
    "button_style='danger',\n",
    "tooltip='click to finish',\n",
    "layout = layout\n",
    ")\n",
    "button_cancel"
   ]
  },
  {
   "cell_type": "code",
   "execution_count": 93,
   "id": "14d4ce43",
   "metadata": {},
   "outputs": [
    {
     "data": {
      "application/vnd.jupyter.widget-view+json": {
       "model_id": "1dfc76a61cd04463a27da6439c834660",
       "version_major": 2,
       "version_minor": 0
      },
      "text/plain": [
       "Button(button_style='info', description='Start', layout=Layout(height='30px', width='120px'), style=ButtonStyl…"
      ]
     },
     "execution_count": 93,
     "metadata": {},
     "output_type": "execute_result"
    }
   ],
   "source": [
    "layout = widgets.Layout(width='120px',  height='30px')\n",
    "button_start=widgets.Button(\n",
    "description='Start',\n",
    "disabled=False,\n",
    "button_style='info',\n",
    "tooltip='starts the stopwatch',\n",
    "layout = layout\n",
    ")\n",
    "button_start"
   ]
  },
  {
   "cell_type": "code",
   "execution_count": 94,
   "id": "e6e304e0",
   "metadata": {},
   "outputs": [
    {
     "data": {
      "application/vnd.jupyter.widget-view+json": {
       "model_id": "e2d09cc255434dc98414ddfe514a0256",
       "version_major": 2,
       "version_minor": 0
      },
      "text/plain": [
       "Button(button_style='success', description='Stop', layout=Layout(height='30px', width='120px'), style=ButtonSt…"
      ]
     },
     "execution_count": 94,
     "metadata": {},
     "output_type": "execute_result"
    }
   ],
   "source": [
    "layout = widgets.Layout(width='120px',  height='30px')\n",
    "button_stop=widgets.Button(\n",
    "description='Stop',\n",
    "disabled=False,\n",
    "button_style='success',\n",
    "tooltip='click to stop',\n",
    "layout = layout,\n",
    ")\n",
    "#button_stop.style.button_color = 'lightgreen'\n",
    "button_stop"
   ]
  },
  {
   "cell_type": "code",
   "execution_count": 95,
   "id": "0de9acf5",
   "metadata": {},
   "outputs": [
    {
     "data": {
      "application/vnd.jupyter.widget-view+json": {
       "model_id": "c8d6d2c057e24c47a612978ec9fde8b7",
       "version_major": 2,
       "version_minor": 0
      },
      "text/plain": [
       "Text(value='', description='Elapsed Time:', layout=Layout(height='30px', width='180px'), style=TextStyle(descr…"
      ]
     },
     "execution_count": 95,
     "metadata": {},
     "output_type": "execute_result"
    }
   ],
   "source": [
    "style = {'description_width': 'initial'}\n",
    "layout = widgets.Layout(width='180px',  height='30px')\n",
    "remaining_time=widgets.Text(description='Elapsed Time:',\n",
    "style=style,\n",
    "layout = layout,\n",
    "disabled=False)\n",
    "remaining_time"
   ]
  },
  {
   "cell_type": "code",
   "execution_count": 96,
   "id": "6024cb7f",
   "metadata": {},
   "outputs": [
    {
     "data": {
      "application/vnd.jupyter.widget-view+json": {
       "model_id": "f140c8ec68724f0abf1c806b0b26411e",
       "version_major": 2,
       "version_minor": 0
      },
      "text/plain": [
       "VBox(children=(HBox(children=(BoundedIntText(value=0, description='Hour:', layout=Layout(width='max-content'),…"
      ]
     },
     "execution_count": 96,
     "metadata": {},
     "output_type": "execute_result"
    }
   ],
   "source": [
    "count_down=widgets.VBox([widgets.HBox([count_hour,count_min,count_sec]),widgets.HBox([button_cancel,button_start,button_stop,remaining_time])])\n",
    "count_down"
   ]
  },
  {
   "cell_type": "code",
   "execution_count": 97,
   "id": "94c6b356-86fb-4b7e-bbec-e2782133aab9",
   "metadata": {},
   "outputs": [
    {
     "data": {
      "application/vnd.jupyter.widget-view+json": {
       "model_id": "0c7b0c38c4104a4ba5cc857d77daf657",
       "version_major": 2,
       "version_minor": 0
      },
      "text/plain": [
       "Text(value='', layout=Layout(height='30px', width='180px'), style=TextStyle(description_width='initial'))"
      ]
     },
     "execution_count": 97,
     "metadata": {},
     "output_type": "execute_result"
    }
   ],
   "source": [
    "style = {'description_width': 'initial'}\n",
    "layout = widgets.Layout(width='180px',  height='30px')\n",
    "timezone_text=widgets.Text(description='',\n",
    "style=style,\n",
    "layout = layout,\n",
    "disabled=False)\n",
    "timezone_text"
   ]
  },
  {
   "cell_type": "code",
   "execution_count": 98,
   "id": "0b312cb9-357d-40ad-9347-78af151a6ca5",
   "metadata": {},
   "outputs": [
    {
     "data": {
      "application/vnd.jupyter.widget-view+json": {
       "model_id": "8d2bb7ddbc1c49b2b489075f76ecb8a6",
       "version_major": 2,
       "version_minor": 0
      },
      "text/plain": [
       "Dropdown(description='Continent/City', layout=Layout(width='max-content'), options=('Asia/Istanbul', 'US/Easte…"
      ]
     },
     "execution_count": 98,
     "metadata": {},
     "output_type": "execute_result"
    }
   ],
   "source": [
    "timezone_city = widgets.Dropdown(\n",
    "options = ['Asia/Istanbul','US/Eastern','US/Central', 'Europe/Amsterdam','Europe/London','Asia/Tokyo','Indian/Mauritius'\n",
    "          ,'UTC'],\n",
    "value ='Asia/Istanbul',\n",
    "layout = {'width':'max-content'},\n",
    "description = 'Continent/City',\n",
    "disabled = False)\n",
    "timezone_city"
   ]
  },
  {
   "cell_type": "code",
   "execution_count": 99,
   "id": "539a9433-4084-4907-a02a-c94bae8086f5",
   "metadata": {},
   "outputs": [
    {
     "data": {
      "application/vnd.jupyter.widget-view+json": {
       "model_id": "991dab0a08e84554bafae3bd1a9b8a8c",
       "version_major": 2,
       "version_minor": 0
      },
      "text/plain": [
       "Button(button_style='info', description='Done', layout=Layout(height='30px', width='120px'), style=ButtonStyle…"
      ]
     },
     "execution_count": 99,
     "metadata": {},
     "output_type": "execute_result"
    }
   ],
   "source": [
    "layout = widgets.Layout(width='120px',  height='30px')\n",
    "button_done=widgets.Button(\n",
    "description='Done',\n",
    "disabled=False,\n",
    "button_style='info',\n",
    "tooltip='starts the stopwatch',\n",
    "layout = layout\n",
    ")\n",
    "button_done"
   ]
  },
  {
   "cell_type": "code",
   "execution_count": 100,
   "id": "d6c56622-15ac-4a11-88ce-dfe24fd2758e",
   "metadata": {},
   "outputs": [
    {
     "data": {
      "application/vnd.jupyter.widget-view+json": {
       "model_id": "383e93d04e7d4a6ea177f070ea3dedd5",
       "version_major": 2,
       "version_minor": 0
      },
      "text/plain": [
       "VBox(children=(Dropdown(description='Continent/City', layout=Layout(width='max-content'), options=('Asia/Istan…"
      ]
     },
     "execution_count": 100,
     "metadata": {},
     "output_type": "execute_result"
    }
   ],
   "source": [
    "world_clocks = widgets.VBox([timezone_city, widgets.HBox([timezone_text,button_done])])\n",
    "world_clocks"
   ]
  },
  {
   "cell_type": "code",
   "execution_count": 101,
   "id": "602dbdcd-3191-49d2-bbe4-3b905c65c920",
   "metadata": {},
   "outputs": [
    {
     "data": {
      "application/vnd.jupyter.widget-view+json": {
       "model_id": "383e93d04e7d4a6ea177f070ea3dedd5",
       "version_major": 2,
       "version_minor": 0
      },
      "text/plain": [
       "VBox(children=(Dropdown(description='Continent/City', layout=Layout(width='max-content'), options=('Asia/Istan…"
      ]
     },
     "execution_count": 101,
     "metadata": {},
     "output_type": "execute_result"
    }
   ],
   "source": [
    "world_clocks"
   ]
  },
  {
   "cell_type": "code",
   "execution_count": 102,
   "id": "cb3b444e",
   "metadata": {},
   "outputs": [
    {
     "data": {
      "application/vnd.jupyter.widget-view+json": {
       "model_id": "8062ff854a9448559bdf6a7ccccb5a08",
       "version_major": 2,
       "version_minor": 0
      },
      "text/plain": [
       "Tab(children=(VBox(children=(Accordion(children=(VBox(children=(HBox(children=(Dropdown(description='Hour:', l…"
      ]
     },
     "execution_count": 102,
     "metadata": {},
     "output_type": "execute_result"
    }
   ],
   "source": [
    "tab.children = [last_type,stop_watch,count_down, world_clocks]\n",
    "tab"
   ]
  },
  {
   "cell_type": "code",
   "execution_count": 103,
   "id": "552eda31",
   "metadata": {},
   "outputs": [],
   "source": [
    "today=date.today()"
   ]
  },
  {
   "cell_type": "code",
   "execution_count": 104,
   "id": "d346c8c7",
   "metadata": {},
   "outputs": [],
   "source": [
    "def time_set():\n",
    "    with out:\n",
    "        out.clear_output()\n",
    "        print(\"Alarm ready..\")\n",
    "   # counter2=0\n",
    "    \n",
    "    #if counter2==1:\n",
    "    #else:\n",
    "     #   counter2=1\n",
    "    alarmhour = int(choose_hour.value)\n",
    "    alarmmin = int(choose_min.value)\n",
    "    alarmAm = choose_ante_post.value\n",
    "    alarmday=days.value\n",
    "    if alarmday=='Mon':\n",
    "        alarmday = 0\n",
    "    elif alarmday=='Tues':\n",
    "        alarmday = 1\n",
    "    elif alarmday=='Wed':\n",
    "        alarmday = 2\n",
    "    elif alarmday=='Thur':\n",
    "        alarmday = 3\n",
    "    elif alarmday=='Fri':\n",
    "        alarmday = 4\n",
    "    elif alarmday=='Sat':\n",
    "        alarmday = 5\n",
    "    elif alarmday=='Sun':\n",
    "        alarmday = 6\n",
    "    if alarmAm=='pm':\n",
    "        alarmhour+=12\n",
    "    while True:\n",
    "        if alarmhour==datetime.datetime.now().hour and alarmmin==datetime.datetime.now().minute and alarmday==today.weekday():\n",
    "            with out:\n",
    "                out.clear_output()\n",
    "                print(alarm_name.value)  \n",
    "                #song = winsound.PlaySound(r'Wake up to Reality.wav', winsound.SND_ASYNC)\n",
    "                the_music = music_name.value\n",
    "                \n",
    "                song = winsound.PlaySound(the_music, winsound.SND_ASYNC)\n",
    "                \n",
    "                break\n",
    "            "
   ]
  },
  {
   "cell_type": "code",
   "execution_count": 105,
   "id": "826cf724",
   "metadata": {},
   "outputs": [],
   "source": [
    "def time_set_click(b):\n",
    "    time_set()\n",
    "button_Ready.on_click(time_set_click)"
   ]
  },
  {
   "cell_type": "code",
   "execution_count": 106,
   "id": "cf41bab1",
   "metadata": {},
   "outputs": [],
   "source": [
    "def turnoff_song():\n",
    "    winsound.PlaySound(None, winsound.SND_PURGE)\n",
    "    with out:\n",
    "        out.clear_output()\n",
    "        print(\"alarm goes off..\")"
   ]
  },
  {
   "cell_type": "code",
   "execution_count": 107,
   "id": "558c9698",
   "metadata": {},
   "outputs": [],
   "source": [
    "def turnoff_song_click(c):\n",
    "    turnoff_song()\n",
    "button_stopmusic.on_click(turnoff_song_click)"
   ]
  },
  {
   "cell_type": "code",
   "execution_count": 108,
   "id": "2080c3af-e928-483a-aa63-b0ca196260b3",
   "metadata": {},
   "outputs": [],
   "source": [
    "import time\n",
    "def start_stopWatch():\n",
    "    global stop_flag\n",
    "    list3 = [int(x) for x in stop_text.value.split(':')]\n",
    "    stop_flag = True\n",
    "    while stop_flag:\n",
    "        formatted_text = str(list3[0]).zfill(2) + ':' + str(list3[1]).zfill(2) + ':' + str(list3[2]).zfill(2)\n",
    "        stop_text.value = formatted_text\n",
    "        \n",
    "        time.sleep(1)\n",
    "        \n",
    "        list3[2] += 1\n",
    "        \n",
    "        if list3[2] == 60:\n",
    "            list3[2] = 0\n",
    "            list3[1] += 1\n",
    "            \n",
    "        if list3[1] == 60:\n",
    "            list3[1] = 0\n",
    "            list3[0] += 1\n",
    "\n",
    "# start_stopWatch() fonksiyonunu bir thread içinde başlat\n",
    "\n"
   ]
  },
  {
   "cell_type": "code",
   "execution_count": 109,
   "id": "508fd2ec-22e3-415e-8fa1-30a07b6603c6",
   "metadata": {},
   "outputs": [],
   "source": [
    "def start_starstop_click(d):\n",
    "    watch_thread = threading.Thread(target=start_stopWatch)\n",
    "    watch_thread.start()\n",
    "button_startstop.on_click(start_starstop_click)"
   ]
  },
  {
   "cell_type": "code",
   "execution_count": 110,
   "id": "94c6ea07-f920-4302-8560-93928b2e7e1a",
   "metadata": {},
   "outputs": [],
   "source": [
    "def stop_starstop():\n",
    "    global stop_flag\n",
    "    stop_flag = False"
   ]
  },
  {
   "cell_type": "code",
   "execution_count": 111,
   "id": "bc4791ba-b4f4-4da7-91d1-c2c63b67a85f",
   "metadata": {},
   "outputs": [],
   "source": [
    "def stop_starstopclick(d):\n",
    "    stop_starstop()\n",
    "button_stopstop.on_click(stop_starstopclick)"
   ]
  },
  {
   "cell_type": "code",
   "execution_count": 112,
   "id": "151d5779-f531-4281-a96d-f4a2536c300c",
   "metadata": {},
   "outputs": [],
   "source": [
    "def reset_starstop():\n",
    "    stop_starstop()\n",
    "    stop_text.value = '00:00:00'"
   ]
  },
  {
   "cell_type": "code",
   "execution_count": 113,
   "id": "5cb3d426-d64d-446f-872a-3f66533f876e",
   "metadata": {},
   "outputs": [],
   "source": [
    "def reset_starstopclick(d):\n",
    "    reset_starstop()\n",
    "button_resetstop.on_click(reset_starstopclick)"
   ]
  },
  {
   "cell_type": "code",
   "execution_count": 114,
   "id": "5445829b-8e50-44c4-a00a-21468f3c20d9",
   "metadata": {},
   "outputs": [],
   "source": [
    "import time\n",
    "\n",
    "def start_Countdown():\n",
    "    first_sec = int(count_sec.value)\n",
    "    first_min = int(count_min.value)\n",
    "    first_hour = int(count_hour.value)\n",
    "    \n",
    "    global stop_flag\n",
    "    stop_flag = True\n",
    "    while stop_flag:\n",
    "        remaining_sec = int(count_sec.value)\n",
    "        if remaining_sec > 0:\n",
    "            count_sec.value = str(int(count_sec.value) - 1)\n",
    "            result = first_sec - int(count_sec.value) + (first_min - int(count_min.value)) * 60 + first_hour - int(count_hour.value) * 3600\n",
    "            \n",
    "            result_hour = (result // 3600)\n",
    "            result_min = (result - result_hour * 3600) // 60\n",
    "            result_sec = (result - result_hour * 3600 - result_min * 60) % 60\n",
    "            remaining_time.value = str(result_hour).zfill(2) + ':' + str(result_min).zfill(2) + ':' + str(result_sec).zfill(2)\n",
    "            time.sleep(1)\n",
    "        elif int(count_min.value) > 0:# remaining_min değişkenini burada tanımladık\n",
    "            remaining_min = int(count_min.value)\n",
    "            count_min.value = str(int(count_min.value) - 1)\n",
    "            count_sec.value = '59'\n",
    "        else:\n",
    "            remaining_hour = int(count_hour.value)\n",
    "            if remaining_hour > 0:\n",
    "                count_hour.value = str(int(count_hour.value) - 1)\n",
    "                count_min.value = '59'\n",
    "            else:\n",
    "                stop_flag = False\n"
   ]
  },
  {
   "cell_type": "code",
   "execution_count": 115,
   "id": "643be40a-ab82-4dec-9c07-ad2e88e4533c",
   "metadata": {},
   "outputs": [],
   "source": [
    "def start_Countdown_click(d):\n",
    "    countdown_thread = threading.Thread(target=start_Countdown)\n",
    "    countdown_thread.start()\n",
    "button_start.on_click(start_Countdown_click)"
   ]
  },
  {
   "cell_type": "code",
   "execution_count": 116,
   "id": "4068aaf6-e6b1-49aa-8eac-2d8e7c9a3179",
   "metadata": {},
   "outputs": [],
   "source": [
    "def stop_Countdown():\n",
    "    global stop_flag\n",
    "    stop_flag = False"
   ]
  },
  {
   "cell_type": "code",
   "execution_count": 117,
   "id": "45b1b56e-45a4-443c-a47e-5ddf7543e0bb",
   "metadata": {},
   "outputs": [],
   "source": [
    "def stop_Countdown_click(d):\n",
    "    stop_Countdown()\n",
    "button_stop.on_click(stop_Countdown_click)"
   ]
  },
  {
   "cell_type": "code",
   "execution_count": 118,
   "id": "30c6fd1d-6f8e-4c89-b08f-02da8f927c1a",
   "metadata": {},
   "outputs": [],
   "source": [
    "def cancel_countdown():\n",
    "    count_sec.value = count_min.value = count_hour.value = 0\n",
    "    remaining_time.value = \"00:00:00\"\n",
    "def cancel_countdown_clikc(d):\n",
    "    cancel_countdown()\n",
    "button_cancel.on_click(cancel_countdown_clikc)"
   ]
  },
  {
   "cell_type": "code",
   "execution_count": 119,
   "id": "9bd2e88a-7fc1-4b20-a683-63cc6f43b9e5",
   "metadata": {
    "scrolled": true
   },
   "outputs": [
    {
     "name": "stdout",
     "output_type": "stream",
     "text": [
      "Requirement already satisfied: pytz in c:\\users\\gökhan ergül\\appdata\\local\\programs\\python\\python312\\lib\\site-packages (2024.1)\n",
      "Note: you may need to restart the kernel to use updated packages.\n"
     ]
    }
   ],
   "source": [
    "pip install pytz"
   ]
  },
  {
   "cell_type": "code",
   "execution_count": 120,
   "id": "de6d1fff-6a1a-4a38-8ad0-04355335e2ca",
   "metadata": {},
   "outputs": [
    {
     "name": "stdout",
     "output_type": "stream",
     "text": [
      "Country full name = India\n"
     ]
    }
   ],
   "source": [
    "from pytz import timezone\n",
    "from pytz import country_names\n",
    "\n",
    "print('Country full name =', country_names['IN'])\n"
   ]
  },
  {
   "cell_type": "code",
   "execution_count": 121,
   "id": "4455319e-4473-4500-aedb-cbfa606de50c",
   "metadata": {},
   "outputs": [],
   "source": [
    "def done_world_clocks():\n",
    "    time_format = '%H:%M:%S'\n",
    "    tz = datetime.now(timezone(timezone_city.value)).strftime(time_format)\n",
    "    timezone_text.value = str(tz)"
   ]
  },
  {
   "cell_type": "code",
   "execution_count": 122,
   "id": "88854424-dd8a-4e89-ad61-15d398876b06",
   "metadata": {},
   "outputs": [],
   "source": [
    "def done_world_clocks_click(d):\n",
    "    done_world_clocks()\n",
    "button_done.on_click(done_world_clocks_click)"
   ]
  },
  {
   "cell_type": "code",
   "execution_count": 123,
   "id": "1ee8e64d",
   "metadata": {
    "scrolled": true
   },
   "outputs": [
    {
     "data": {
      "application/vnd.jupyter.widget-view+json": {
       "model_id": "8062ff854a9448559bdf6a7ccccb5a08",
       "version_major": 2,
       "version_minor": 0
      },
      "text/plain": [
       "Tab(children=(VBox(children=(Accordion(children=(VBox(children=(HBox(children=(Dropdown(description='Hour:', l…"
      ]
     },
     "execution_count": 123,
     "metadata": {},
     "output_type": "execute_result"
    }
   ],
   "source": [
    "tab\n"
   ]
  },
  {
   "cell_type": "code",
   "execution_count": 124,
   "id": "c09b4e00",
   "metadata": {},
   "outputs": [
    {
     "data": {
      "application/vnd.jupyter.widget-view+json": {
       "model_id": "ac85a789408a45e7826baa26b86ec1be",
       "version_major": 2,
       "version_minor": 0
      },
      "text/plain": [
       "Output()"
      ]
     },
     "execution_count": 124,
     "metadata": {},
     "output_type": "execute_result"
    }
   ],
   "source": [
    "out"
   ]
  },
  {
   "cell_type": "code",
   "execution_count": null,
   "id": "c971b751",
   "metadata": {},
   "outputs": [],
   "source": []
  }
 ],
 "metadata": {
  "kernelspec": {
   "display_name": "Python 3 (ipykernel)",
   "language": "python",
   "name": "python3"
  },
  "language_info": {
   "codemirror_mode": {
    "name": "ipython",
    "version": 3
   },
   "file_extension": ".py",
   "mimetype": "text/x-python",
   "name": "python",
   "nbconvert_exporter": "python",
   "pygments_lexer": "ipython3",
   "version": "3.12.2"
  }
 },
 "nbformat": 4,
 "nbformat_minor": 5
}
